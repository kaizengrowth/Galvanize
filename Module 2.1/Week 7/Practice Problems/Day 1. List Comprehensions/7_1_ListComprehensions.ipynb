{
  "nbformat": 4,
  "nbformat_minor": 0,
  "metadata": {
    "colab": {
      "provenance": [],
      "collapsed_sections": []
    },
    "kernelspec": {
      "name": "python3",
      "display_name": "Python 3"
    },
    "language_info": {
      "name": "python"
    }
  },
  "cells": [
    {
      "cell_type": "code",
      "execution_count": 52,
      "metadata": {
        "id": "KNDkzd1_Ie7g"
      },
      "outputs": [],
      "source": [
        "import this"
      ]
    },
    {
      "cell_type": "code",
      "source": [
        "import this"
      ],
      "metadata": {
        "id": "QoLpdSjWRdcr"
      },
      "execution_count": 53,
      "outputs": []
    },
    {
      "cell_type": "markdown",
      "source": [
        "Question #1"
      ],
      "metadata": {
        "id": "mKzTcVwhIsSk"
      }
    },
    {
      "cell_type": "code",
      "source": [
        "def multiply_by_two(numbers):\n",
        "    results = []\n",
        "    for num in numbers:\n",
        "        results.append(num * 2)\n",
        "    return results\n",
        "\n",
        "multiply_by_two([3, 4])"
      ],
      "metadata": {
        "colab": {
          "base_uri": "https://localhost:8080/"
        },
        "id": "C3Joo5Z0IoG6",
        "outputId": "d4b73560-389e-4c58-9b09-d4caf81c061a"
      },
      "execution_count": null,
      "outputs": [
        {
          "output_type": "execute_result",
          "data": {
            "text/plain": [
              "[6, 8]"
            ]
          },
          "metadata": {},
          "execution_count": 35
        }
      ]
    },
    {
      "cell_type": "code",
      "source": [
        "def multiply_by_two(numbers):\n",
        "  return [num * 2 for num in numbers]\n",
        "\n",
        "\n",
        "multiply_by_two([3, 4])"
      ],
      "metadata": {
        "id": "VSsPfFyaJcJD",
        "colab": {
          "base_uri": "https://localhost:8080/"
        },
        "outputId": "13d2d214-ab70-4f94-8d70-041d2a3022c2"
      },
      "execution_count": 38,
      "outputs": [
        {
          "output_type": "execute_result",
          "data": {
            "text/plain": [
              "[6, 8]"
            ]
          },
          "metadata": {},
          "execution_count": 38
        }
      ]
    },
    {
      "cell_type": "markdown",
      "source": [
        "Question #2"
      ],
      "metadata": {
        "id": "d3Eq-L3oIvd-"
      }
    },
    {
      "cell_type": "code",
      "source": [
        "def add_by_two(numbers):\n",
        "    results = []\n",
        "    for num in numbers:\n",
        "        results.append(num + 2)\n",
        "    return results"
      ],
      "metadata": {
        "id": "aIGo6W8vIwmh"
      },
      "execution_count": 41,
      "outputs": []
    },
    {
      "cell_type": "code",
      "source": [
        "def add_by_two(numbers):\n",
        "  return [num + 2 for num in numbers]\n",
        "\n",
        "add_by_two([3, 4])"
      ],
      "metadata": {
        "id": "wRw6mLsNJcxt",
        "colab": {
          "base_uri": "https://localhost:8080/"
        },
        "outputId": "102c7e02-45d2-4026-fa72-022a0749d526"
      },
      "execution_count": 39,
      "outputs": [
        {
          "output_type": "execute_result",
          "data": {
            "text/plain": [
              "[5, 6]"
            ]
          },
          "metadata": {},
          "execution_count": 39
        }
      ]
    },
    {
      "cell_type": "markdown",
      "source": [
        "Question #3"
      ],
      "metadata": {
        "id": "RP5vY4gTIxXW"
      }
    },
    {
      "cell_type": "code",
      "source": [
        "def to_uppercase(strings):\n",
        "    results = []\n",
        "    for s in strings:\n",
        "        results.append(s.upper())\n",
        "    return results\n",
        "\n",
        "to_uppercase(['we', 'love', 'python'])"
      ],
      "metadata": {
        "id": "7NaHzQZrIxF2",
        "colab": {
          "base_uri": "https://localhost:8080/"
        },
        "outputId": "74be33f2-fb45-4702-cb95-8adb28ff060a"
      },
      "execution_count": 42,
      "outputs": [
        {
          "output_type": "execute_result",
          "data": {
            "text/plain": [
              "['WE', 'LOVE', 'PYTHON']"
            ]
          },
          "metadata": {},
          "execution_count": 42
        }
      ]
    },
    {
      "cell_type": "code",
      "source": [
        "def to_uppercase(strings):\n",
        "  return [s.upper() for s in strings]\n",
        "\n",
        "to_uppercase(['we', 'love', 'python'])"
      ],
      "metadata": {
        "id": "ryAIN3IrI0G3",
        "colab": {
          "base_uri": "https://localhost:8080/"
        },
        "outputId": "7848a90a-a66e-4140-8604-72326e0b2d12"
      },
      "execution_count": 43,
      "outputs": [
        {
          "output_type": "execute_result",
          "data": {
            "text/plain": [
              "['WE', 'LOVE', 'PYTHON']"
            ]
          },
          "metadata": {},
          "execution_count": 43
        }
      ]
    },
    {
      "cell_type": "markdown",
      "source": [
        "Question #4"
      ],
      "metadata": {
        "id": "Le_dmsNDI3hE"
      }
    },
    {
      "cell_type": "code",
      "source": [
        "class Person:\n",
        "    def __init__(self, first_name, last_name):\n",
        "        self.first_name = first_name\n",
        "        self.last_name = last_name\n",
        "\n",
        "\n",
        "def get_first_names(people):\n",
        "    results = []\n",
        "    for person in people:\n",
        "        results.append(person.first_name)\n",
        "    return results\n",
        "\n",
        "person1 = Person(\"Angela\", \"Davis\")\n",
        "person2 = Person(\"Yuri\", 'Kochiyama')\n",
        "get_first_names([person1, person2])"
      ],
      "metadata": {
        "id": "hncco89aI45v",
        "colab": {
          "base_uri": "https://localhost:8080/"
        },
        "outputId": "72b1f84a-f704-4d2f-9b95-4305e86aafee"
      },
      "execution_count": 44,
      "outputs": [
        {
          "output_type": "execute_result",
          "data": {
            "text/plain": [
              "['Angela', 'Yuri']"
            ]
          },
          "metadata": {},
          "execution_count": 44
        }
      ]
    },
    {
      "cell_type": "code",
      "source": [
        "def get_first_names(people):\n",
        "  return [person.first_name for person in people]\n",
        "\n",
        "person1 = Person(\"Angela\", \"Davis\")\n",
        "person2 = Person(\"Yuri\", 'Kochiyama')\n",
        "get_first_names([person1, person2])"
      ],
      "metadata": {
        "id": "-uogNP-BJdwN",
        "colab": {
          "base_uri": "https://localhost:8080/"
        },
        "outputId": "1f38c9ec-d8ad-4949-c701-2eeeee1875df"
      },
      "execution_count": 45,
      "outputs": [
        {
          "output_type": "execute_result",
          "data": {
            "text/plain": [
              "['Angela', 'Yuri']"
            ]
          },
          "metadata": {},
          "execution_count": 45
        }
      ]
    },
    {
      "cell_type": "markdown",
      "source": [
        "Question #5"
      ],
      "metadata": {
        "id": "FFNbB3BDI77m"
      }
    },
    {
      "cell_type": "code",
      "source": [
        "class Person:\n",
        "    def __init__(self, first_name, last_name):\n",
        "        self.first_name = first_name\n",
        "        self.last_name = last_name\n",
        "\n",
        "\n",
        "def get_names(people):\n",
        "    results = []\n",
        "    for person in people:\n",
        "        results.append({\n",
        "            \"first_name\": person.first_name,\n",
        "            \"last_name\": person.last_name,\n",
        "        })\n",
        "    return results\n",
        "\n",
        "person1 = Person(\"Angela\", \"Davis\")\n",
        "person2 = Person(\"Yuri\", 'Kochiyama')\n",
        "get_names([person1, person2])"
      ],
      "metadata": {
        "id": "oUArwsGUI82m",
        "colab": {
          "base_uri": "https://localhost:8080/"
        },
        "outputId": "2c5b89a9-399b-408f-9395-3ee67b8d0afa"
      },
      "execution_count": 46,
      "outputs": [
        {
          "output_type": "execute_result",
          "data": {
            "text/plain": [
              "[{'first_name': 'Angela', 'last_name': 'Davis'},\n",
              " {'first_name': 'Yuri', 'last_name': 'Kochiyama'}]"
            ]
          },
          "metadata": {},
          "execution_count": 46
        }
      ]
    },
    {
      "cell_type": "code",
      "source": [
        "def get_names(people):\n",
        "  return [{\n",
        "            \"first_name\": person.first_name,\n",
        "            \"last_name\": person.last_name\n",
        "           }\n",
        "          for person in people]\n",
        "\n",
        "person1 = Person(\"Angela\", \"Davis\")\n",
        "person2 = Person(\"Yuri\", 'Kochiyama')\n",
        "get_names([person1, person2])"
      ],
      "metadata": {
        "id": "0OGldswhJeUy",
        "colab": {
          "base_uri": "https://localhost:8080/"
        },
        "outputId": "3039ea36-48b6-4819-c1dc-5d210c0cb515"
      },
      "execution_count": 48,
      "outputs": [
        {
          "output_type": "execute_result",
          "data": {
            "text/plain": [
              "[{'first_name': 'Angela', 'last_name': 'Davis'},\n",
              " {'first_name': 'Yuri', 'last_name': 'Kochiyama'}]"
            ]
          },
          "metadata": {},
          "execution_count": 48
        }
      ]
    },
    {
      "cell_type": "markdown",
      "source": [
        "Question #6"
      ],
      "metadata": {
        "id": "ylpjJp6VI9Wz"
      }
    },
    {
      "cell_type": "code",
      "source": [
        "class Person:\n",
        "    def __init__(self, first_name, last_name):\n",
        "        self.first_name = first_name\n",
        "        self.last_name = last_name\n",
        "        self.children = []\n",
        "\n",
        "    def add_child(self, person):\n",
        "        self.children.append(person)\n",
        "\n",
        "\n",
        "def get_person_and_child_names(person):\n",
        "    child_names = []\n",
        "    for child in person.children:\n",
        "        child_names.append({\n",
        "            \"first_name\": child.first_name,\n",
        "            \"last_name\": child.last_name,\n",
        "        })\n",
        "\n",
        "    return {\n",
        "        \"first_name\": person.first_name,\n",
        "        \"last_name\": person.last_name,\n",
        "        \"children\": child_names,\n",
        "    }\n",
        "\n",
        "person2 = Person(\"Yuri\", \"Kochiyama\")\n",
        "person3 = Person(\"Audee\", \"Kochiyama\")\n",
        "person4 = Person(\"Jimmy\", \"Kochiyama\")\n",
        "person2.add_child(person3)\n",
        "person2.add_child(person4)\n",
        "get_person_and_child_names(person2)"
      ],
      "metadata": {
        "id": "KciwA7YhI-t4",
        "colab": {
          "base_uri": "https://localhost:8080/"
        },
        "outputId": "cab879e7-f0e4-415a-e266-9a4ff75bb06f"
      },
      "execution_count": 49,
      "outputs": [
        {
          "output_type": "execute_result",
          "data": {
            "text/plain": [
              "{'first_name': 'Yuri',\n",
              " 'last_name': 'Kochiyama',\n",
              " 'children': [{'first_name': 'Audee', 'last_name': 'Kochiyama'},\n",
              "  {'first_name': 'Jimmy', 'last_name': 'Kochiyama'}]}"
            ]
          },
          "metadata": {},
          "execution_count": 49
        }
      ]
    },
    {
      "cell_type": "code",
      "source": [
        "def get_person_and_child_names(person):\n",
        "  child_names = [{\n",
        "                  \"first_name\": child.first_name,\n",
        "                  \"last_name\": child.last_name,   \n",
        "                  }\n",
        "                 for child in person.children]\n",
        "  return {\n",
        "      \"first_name\": person.first_name,\n",
        "      \"last_name\": person.last_name,\n",
        "      \"children\": child_names,\n",
        "  }\n",
        "\n",
        "person2 = Person(\"Yuri\", \"Kochiyama\")\n",
        "person3 = Person(\"Audee\", \"Kochiyama\")\n",
        "person4 = Person(\"Jimmy\", \"Kochiyama\")\n",
        "person2.add_child(person3)\n",
        "person2.add_child(person4)\n",
        "get_person_and_child_names(person2)"
      ],
      "metadata": {
        "id": "CfDZ3MNpJfI-",
        "colab": {
          "base_uri": "https://localhost:8080/"
        },
        "outputId": "58516443-1fb1-4a99-f82f-cb9e3bc8d1ca"
      },
      "execution_count": 50,
      "outputs": [
        {
          "output_type": "execute_result",
          "data": {
            "text/plain": [
              "{'first_name': 'Yuri',\n",
              " 'last_name': 'Kochiyama',\n",
              " 'children': [{'first_name': 'Audee', 'last_name': 'Kochiyama'},\n",
              "  {'first_name': 'Jimmy', 'last_name': 'Kochiyama'}]}"
            ]
          },
          "metadata": {},
          "execution_count": 50
        }
      ]
    }
  ]
}